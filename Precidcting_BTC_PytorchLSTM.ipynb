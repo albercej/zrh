{
  "nbformat": 4,
  "nbformat_minor": 0,
  "metadata": {
    "colab": {
      "name": "Precidcting_BTC_PytorchLSTM.ipynb",
      "provenance": [],
      "authorship_tag": "ABX9TyOqrqMgjk7E0QTqG4FaZjm3",
      "include_colab_link": true
    },
    "kernelspec": {
      "name": "python3",
      "display_name": "Python 3"
    },
    "language_info": {
      "name": "python"
    }
  },
  "cells": [
    {
      "cell_type": "markdown",
      "metadata": {
        "id": "view-in-github",
        "colab_type": "text"
      },
      "source": [
        "<a href=\"https://colab.research.google.com/github/albercej/zrh/blob/main/Precidcting_BTC_PytorchLSTM.ipynb\" target=\"_parent\"><img src=\"https://colab.research.google.com/assets/colab-badge.svg\" alt=\"Open In Colab\"/></a>"
      ]
    },
    {
      "cell_type": "markdown",
      "source": [
        "## Predicting the price of Bitcoin with multivariate Pytorch LSTMs\n",
        "Using multivariate, multi-output forecasting models for financial data"
      ],
      "metadata": {
        "id": "jtM9zcBIgXMO"
      }
    },
    {
      "cell_type": "markdown",
      "source": [
        "### Introduction: predicting the price of Bitcoin\n",
        "For this problem, we’re going to focus on financial data. Before we begin, I would like to point out that LSTMs will not make you rich, even if they are excellent forecasters for time-series data. No model will make you rich; there’s a whole field of thinking on epistemic humility and how impossible it is for anything you do to detect any edge in the market; I won’t go into it here. But know this: if you’ve found an inconsistency in the price of a stock (it’s too low, or too high and you want to capitalise on that), and you believe that no-one else has spotted this inconsistency, then you might want to rethink your surety. Recall that “no-one else” in this scenario includes the team of PhDs sitting in Goldman Sachs with a supercomputing cluster, the lowest latency in information and order processing in the market, and multi-billion dollar financial incentives to find exactly the same inconsistencies as you. If you really believe you’ve beaten them, you haven’t. For more detail on this line of thinking, see Eliezer Yudkowsky’s Inadequate Equilibria.\n",
        "\n",
        "We’ll frame our problem as follows. We have historical price data for Bitcoin, which includes the following predictors for each day (where we have daily time steps):\n",
        "\n",
        "Opening price\n",
        "High price\n",
        "Low price\n",
        "Volume traded\n",
        "Our goal is to take some sequence of the above four values (say, for 100 previous days), and predict the target variable (Bitcoin’s price) for the next 50 days into the future."
      ],
      "metadata": {
        "id": "9txI8N6Nggdh"
      }
    },
    {
      "cell_type": "code",
      "source": [
        "!pip install yfinance"
      ],
      "metadata": {
        "colab": {
          "base_uri": "https://localhost:8080/"
        },
        "id": "cR76cAdhgzO4",
        "outputId": "741d1d07-93f4-42c3-fd04-44995778d889"
      },
      "execution_count": 2,
      "outputs": [
        {
          "output_type": "stream",
          "name": "stdout",
          "text": [
            "Looking in indexes: https://pypi.org/simple, https://us-python.pkg.dev/colab-wheels/public/simple/\n",
            "Collecting yfinance\n",
            "  Downloading yfinance-0.1.72-py2.py3-none-any.whl (27 kB)\n",
            "Requirement already satisfied: pandas>=0.24.0 in /usr/local/lib/python3.7/dist-packages (from yfinance) (1.3.5)\n",
            "Requirement already satisfied: numpy>=1.15 in /usr/local/lib/python3.7/dist-packages (from yfinance) (1.21.6)\n",
            "Collecting lxml>=4.5.1\n",
            "  Downloading lxml-4.9.0-cp37-cp37m-manylinux_2_17_x86_64.manylinux2014_x86_64.manylinux_2_24_x86_64.whl (6.4 MB)\n",
            "\u001b[K     |████████████████████████████████| 6.4 MB 35.3 MB/s \n",
            "\u001b[?25hRequirement already satisfied: multitasking>=0.0.7 in /usr/local/lib/python3.7/dist-packages (from yfinance) (0.0.10)\n",
            "Collecting requests>=2.26\n",
            "  Downloading requests-2.28.1-py3-none-any.whl (62 kB)\n",
            "\u001b[K     |████████████████████████████████| 62 kB 1.7 MB/s \n",
            "\u001b[?25hRequirement already satisfied: pytz>=2017.3 in /usr/local/lib/python3.7/dist-packages (from pandas>=0.24.0->yfinance) (2022.1)\n",
            "Requirement already satisfied: python-dateutil>=2.7.3 in /usr/local/lib/python3.7/dist-packages (from pandas>=0.24.0->yfinance) (2.8.2)\n",
            "Requirement already satisfied: six>=1.5 in /usr/local/lib/python3.7/dist-packages (from python-dateutil>=2.7.3->pandas>=0.24.0->yfinance) (1.15.0)\n",
            "Requirement already satisfied: idna<4,>=2.5 in /usr/local/lib/python3.7/dist-packages (from requests>=2.26->yfinance) (2.10)\n",
            "Requirement already satisfied: certifi>=2017.4.17 in /usr/local/lib/python3.7/dist-packages (from requests>=2.26->yfinance) (2022.6.15)\n",
            "Requirement already satisfied: charset-normalizer<3,>=2 in /usr/local/lib/python3.7/dist-packages (from requests>=2.26->yfinance) (2.0.12)\n",
            "Requirement already satisfied: urllib3<1.27,>=1.21.1 in /usr/local/lib/python3.7/dist-packages (from requests>=2.26->yfinance) (1.24.3)\n",
            "Installing collected packages: requests, lxml, yfinance\n",
            "  Attempting uninstall: requests\n",
            "    Found existing installation: requests 2.23.0\n",
            "    Uninstalling requests-2.23.0:\n",
            "      Successfully uninstalled requests-2.23.0\n",
            "  Attempting uninstall: lxml\n",
            "    Found existing installation: lxml 4.2.6\n",
            "    Uninstalling lxml-4.2.6:\n",
            "      Successfully uninstalled lxml-4.2.6\n",
            "\u001b[31mERROR: pip's dependency resolver does not currently take into account all the packages that are installed. This behaviour is the source of the following dependency conflicts.\n",
            "google-colab 1.0.0 requires requests~=2.23.0, but you have requests 2.28.1 which is incompatible.\n",
            "datascience 0.10.6 requires folium==0.2.1, but you have folium 0.8.3 which is incompatible.\u001b[0m\n",
            "Successfully installed lxml-4.9.0 requests-2.28.1 yfinance-0.1.72\n"
          ]
        }
      ]
    },
    {
      "cell_type": "code",
      "source": [
        "import yfinance as yf\n",
        "import pandas as pd\n",
        "import matplotlib.pyplot as plt\n",
        "import numpy as np\n",
        "\n",
        "import warnings\n",
        "warnings.filterwarnings(\"ignore\")\n",
        "\n",
        "from lightgbm import LGBMRegressor\n",
        "from tqdm import tqdm\n",
        "import matplotlib.pyplot as plt\n",
        "plt.style.use(\"fivethirtyeight\")\n",
        "from keras.models import Sequential\n",
        "from keras.layers import Dense, LSTM"
      ],
      "metadata": {
        "id": "i5n4ZOkxgrks"
      },
      "execution_count": 38,
      "outputs": []
    },
    {
      "cell_type": "code",
      "source": [
        "df = yf.download(\"BTC-USD\", start=\"2020-01-01\", end=None)\n",
        "df"
      ],
      "metadata": {
        "colab": {
          "base_uri": "https://localhost:8080/",
          "height": 472
        },
        "id": "msAMy_B6g5nf",
        "outputId": "37be17d1-c3ce-4f28-de6e-6f1fbb99e2fc"
      },
      "execution_count": 39,
      "outputs": [
        {
          "output_type": "stream",
          "name": "stdout",
          "text": [
            "\r[*********************100%***********************]  1 of 1 completed\n"
          ]
        },
        {
          "output_type": "execute_result",
          "data": {
            "text/plain": [
              "                    Open          High           Low         Close  \\\n",
              "Date                                                                 \n",
              "2020-01-01   7194.892090   7254.330566   7174.944336   7200.174316   \n",
              "2020-01-02   7202.551270   7212.155273   6935.270020   6985.470215   \n",
              "2020-01-03   6984.428711   7413.715332   6914.996094   7344.884277   \n",
              "2020-01-04   7345.375488   7427.385742   7309.514160   7410.656738   \n",
              "2020-01-05   7410.451660   7544.497070   7400.535645   7411.317383   \n",
              "...                  ...           ...           ...           ...   \n",
              "2022-06-25  21233.609375  21520.914062  20964.585938  21502.337891   \n",
              "2022-06-26  21496.494141  21783.724609  21016.269531  21027.294922   \n",
              "2022-06-27  21028.238281  21478.089844  20620.199219  20735.478516   \n",
              "2022-06-28  20731.544922  21164.423828  20228.812500  20280.634766   \n",
              "2022-06-29  20291.271484  20360.972656  19946.732422  20013.851562   \n",
              "\n",
              "               Adj Close       Volume  \n",
              "Date                                   \n",
              "2020-01-01   7200.174316  18565664997  \n",
              "2020-01-02   6985.470215  20802083465  \n",
              "2020-01-03   7344.884277  28111481032  \n",
              "2020-01-04   7410.656738  18444271275  \n",
              "2020-01-05   7411.317383  19725074095  \n",
              "...                  ...          ...  \n",
              "2022-06-25  21502.337891  18372538715  \n",
              "2022-06-26  21027.294922  18027170497  \n",
              "2022-06-27  20735.478516  20965695707  \n",
              "2022-06-28  20280.634766  21381535161  \n",
              "2022-06-29  20013.851562  23448551424  \n",
              "\n",
              "[911 rows x 6 columns]"
            ],
            "text/html": [
              "\n",
              "  <div id=\"df-f6dfbf92-909d-41fd-a4f2-549754939316\">\n",
              "    <div class=\"colab-df-container\">\n",
              "      <div>\n",
              "<style scoped>\n",
              "    .dataframe tbody tr th:only-of-type {\n",
              "        vertical-align: middle;\n",
              "    }\n",
              "\n",
              "    .dataframe tbody tr th {\n",
              "        vertical-align: top;\n",
              "    }\n",
              "\n",
              "    .dataframe thead th {\n",
              "        text-align: right;\n",
              "    }\n",
              "</style>\n",
              "<table border=\"1\" class=\"dataframe\">\n",
              "  <thead>\n",
              "    <tr style=\"text-align: right;\">\n",
              "      <th></th>\n",
              "      <th>Open</th>\n",
              "      <th>High</th>\n",
              "      <th>Low</th>\n",
              "      <th>Close</th>\n",
              "      <th>Adj Close</th>\n",
              "      <th>Volume</th>\n",
              "    </tr>\n",
              "    <tr>\n",
              "      <th>Date</th>\n",
              "      <th></th>\n",
              "      <th></th>\n",
              "      <th></th>\n",
              "      <th></th>\n",
              "      <th></th>\n",
              "      <th></th>\n",
              "    </tr>\n",
              "  </thead>\n",
              "  <tbody>\n",
              "    <tr>\n",
              "      <th>2020-01-01</th>\n",
              "      <td>7194.892090</td>\n",
              "      <td>7254.330566</td>\n",
              "      <td>7174.944336</td>\n",
              "      <td>7200.174316</td>\n",
              "      <td>7200.174316</td>\n",
              "      <td>18565664997</td>\n",
              "    </tr>\n",
              "    <tr>\n",
              "      <th>2020-01-02</th>\n",
              "      <td>7202.551270</td>\n",
              "      <td>7212.155273</td>\n",
              "      <td>6935.270020</td>\n",
              "      <td>6985.470215</td>\n",
              "      <td>6985.470215</td>\n",
              "      <td>20802083465</td>\n",
              "    </tr>\n",
              "    <tr>\n",
              "      <th>2020-01-03</th>\n",
              "      <td>6984.428711</td>\n",
              "      <td>7413.715332</td>\n",
              "      <td>6914.996094</td>\n",
              "      <td>7344.884277</td>\n",
              "      <td>7344.884277</td>\n",
              "      <td>28111481032</td>\n",
              "    </tr>\n",
              "    <tr>\n",
              "      <th>2020-01-04</th>\n",
              "      <td>7345.375488</td>\n",
              "      <td>7427.385742</td>\n",
              "      <td>7309.514160</td>\n",
              "      <td>7410.656738</td>\n",
              "      <td>7410.656738</td>\n",
              "      <td>18444271275</td>\n",
              "    </tr>\n",
              "    <tr>\n",
              "      <th>2020-01-05</th>\n",
              "      <td>7410.451660</td>\n",
              "      <td>7544.497070</td>\n",
              "      <td>7400.535645</td>\n",
              "      <td>7411.317383</td>\n",
              "      <td>7411.317383</td>\n",
              "      <td>19725074095</td>\n",
              "    </tr>\n",
              "    <tr>\n",
              "      <th>...</th>\n",
              "      <td>...</td>\n",
              "      <td>...</td>\n",
              "      <td>...</td>\n",
              "      <td>...</td>\n",
              "      <td>...</td>\n",
              "      <td>...</td>\n",
              "    </tr>\n",
              "    <tr>\n",
              "      <th>2022-06-25</th>\n",
              "      <td>21233.609375</td>\n",
              "      <td>21520.914062</td>\n",
              "      <td>20964.585938</td>\n",
              "      <td>21502.337891</td>\n",
              "      <td>21502.337891</td>\n",
              "      <td>18372538715</td>\n",
              "    </tr>\n",
              "    <tr>\n",
              "      <th>2022-06-26</th>\n",
              "      <td>21496.494141</td>\n",
              "      <td>21783.724609</td>\n",
              "      <td>21016.269531</td>\n",
              "      <td>21027.294922</td>\n",
              "      <td>21027.294922</td>\n",
              "      <td>18027170497</td>\n",
              "    </tr>\n",
              "    <tr>\n",
              "      <th>2022-06-27</th>\n",
              "      <td>21028.238281</td>\n",
              "      <td>21478.089844</td>\n",
              "      <td>20620.199219</td>\n",
              "      <td>20735.478516</td>\n",
              "      <td>20735.478516</td>\n",
              "      <td>20965695707</td>\n",
              "    </tr>\n",
              "    <tr>\n",
              "      <th>2022-06-28</th>\n",
              "      <td>20731.544922</td>\n",
              "      <td>21164.423828</td>\n",
              "      <td>20228.812500</td>\n",
              "      <td>20280.634766</td>\n",
              "      <td>20280.634766</td>\n",
              "      <td>21381535161</td>\n",
              "    </tr>\n",
              "    <tr>\n",
              "      <th>2022-06-29</th>\n",
              "      <td>20291.271484</td>\n",
              "      <td>20360.972656</td>\n",
              "      <td>19946.732422</td>\n",
              "      <td>20013.851562</td>\n",
              "      <td>20013.851562</td>\n",
              "      <td>23448551424</td>\n",
              "    </tr>\n",
              "  </tbody>\n",
              "</table>\n",
              "<p>911 rows × 6 columns</p>\n",
              "</div>\n",
              "      <button class=\"colab-df-convert\" onclick=\"convertToInteractive('df-f6dfbf92-909d-41fd-a4f2-549754939316')\"\n",
              "              title=\"Convert this dataframe to an interactive table.\"\n",
              "              style=\"display:none;\">\n",
              "        \n",
              "  <svg xmlns=\"http://www.w3.org/2000/svg\" height=\"24px\"viewBox=\"0 0 24 24\"\n",
              "       width=\"24px\">\n",
              "    <path d=\"M0 0h24v24H0V0z\" fill=\"none\"/>\n",
              "    <path d=\"M18.56 5.44l.94 2.06.94-2.06 2.06-.94-2.06-.94-.94-2.06-.94 2.06-2.06.94zm-11 1L8.5 8.5l.94-2.06 2.06-.94-2.06-.94L8.5 2.5l-.94 2.06-2.06.94zm10 10l.94 2.06.94-2.06 2.06-.94-2.06-.94-.94-2.06-.94 2.06-2.06.94z\"/><path d=\"M17.41 7.96l-1.37-1.37c-.4-.4-.92-.59-1.43-.59-.52 0-1.04.2-1.43.59L10.3 9.45l-7.72 7.72c-.78.78-.78 2.05 0 2.83L4 21.41c.39.39.9.59 1.41.59.51 0 1.02-.2 1.41-.59l7.78-7.78 2.81-2.81c.8-.78.8-2.07 0-2.86zM5.41 20L4 18.59l7.72-7.72 1.47 1.35L5.41 20z\"/>\n",
              "  </svg>\n",
              "      </button>\n",
              "      \n",
              "  <style>\n",
              "    .colab-df-container {\n",
              "      display:flex;\n",
              "      flex-wrap:wrap;\n",
              "      gap: 12px;\n",
              "    }\n",
              "\n",
              "    .colab-df-convert {\n",
              "      background-color: #E8F0FE;\n",
              "      border: none;\n",
              "      border-radius: 50%;\n",
              "      cursor: pointer;\n",
              "      display: none;\n",
              "      fill: #1967D2;\n",
              "      height: 32px;\n",
              "      padding: 0 0 0 0;\n",
              "      width: 32px;\n",
              "    }\n",
              "\n",
              "    .colab-df-convert:hover {\n",
              "      background-color: #E2EBFA;\n",
              "      box-shadow: 0px 1px 2px rgba(60, 64, 67, 0.3), 0px 1px 3px 1px rgba(60, 64, 67, 0.15);\n",
              "      fill: #174EA6;\n",
              "    }\n",
              "\n",
              "    [theme=dark] .colab-df-convert {\n",
              "      background-color: #3B4455;\n",
              "      fill: #D2E3FC;\n",
              "    }\n",
              "\n",
              "    [theme=dark] .colab-df-convert:hover {\n",
              "      background-color: #434B5C;\n",
              "      box-shadow: 0px 1px 3px 1px rgba(0, 0, 0, 0.15);\n",
              "      filter: drop-shadow(0px 1px 2px rgba(0, 0, 0, 0.3));\n",
              "      fill: #FFFFFF;\n",
              "    }\n",
              "  </style>\n",
              "\n",
              "      <script>\n",
              "        const buttonEl =\n",
              "          document.querySelector('#df-f6dfbf92-909d-41fd-a4f2-549754939316 button.colab-df-convert');\n",
              "        buttonEl.style.display =\n",
              "          google.colab.kernel.accessAllowed ? 'block' : 'none';\n",
              "\n",
              "        async function convertToInteractive(key) {\n",
              "          const element = document.querySelector('#df-f6dfbf92-909d-41fd-a4f2-549754939316');\n",
              "          const dataTable =\n",
              "            await google.colab.kernel.invokeFunction('convertToInteractive',\n",
              "                                                     [key], {});\n",
              "          if (!dataTable) return;\n",
              "\n",
              "          const docLinkHtml = 'Like what you see? Visit the ' +\n",
              "            '<a target=\"_blank\" href=https://colab.research.google.com/notebooks/data_table.ipynb>data table notebook</a>'\n",
              "            + ' to learn more about interactive tables.';\n",
              "          element.innerHTML = '';\n",
              "          dataTable['output_type'] = 'display_data';\n",
              "          await google.colab.output.renderOutput(dataTable, element);\n",
              "          const docLink = document.createElement('div');\n",
              "          docLink.innerHTML = docLinkHtml;\n",
              "          element.appendChild(docLink);\n",
              "        }\n",
              "      </script>\n",
              "    </div>\n",
              "  </div>\n",
              "  "
            ]
          },
          "metadata": {},
          "execution_count": 39
        }
      ]
    },
    {
      "cell_type": "code",
      "execution_count": 40,
      "metadata": {
        "colab": {
          "base_uri": "https://localhost:8080/",
          "height": 238
        },
        "id": "6qlJj_YZgNeM",
        "outputId": "1e5957f3-190b-4bdd-ef0a-8b848da37afd"
      },
      "outputs": [
        {
          "output_type": "execute_result",
          "data": {
            "text/plain": [
              "                   Open         High          Low        Close       Volume\n",
              "Date                                                                       \n",
              "2020-01-01  7194.892090  7254.330566  7174.944336  7200.174316  18565664997\n",
              "2020-01-02  7202.551270  7212.155273  6935.270020  6985.470215  20802083465\n",
              "2020-01-03  6984.428711  7413.715332  6914.996094  7344.884277  28111481032\n",
              "2020-01-04  7345.375488  7427.385742  7309.514160  7410.656738  18444271275\n",
              "2020-01-05  7410.451660  7544.497070  7400.535645  7411.317383  19725074095"
            ],
            "text/html": [
              "\n",
              "  <div id=\"df-08c298d1-00e3-4f5d-ba60-dd475aad733d\">\n",
              "    <div class=\"colab-df-container\">\n",
              "      <div>\n",
              "<style scoped>\n",
              "    .dataframe tbody tr th:only-of-type {\n",
              "        vertical-align: middle;\n",
              "    }\n",
              "\n",
              "    .dataframe tbody tr th {\n",
              "        vertical-align: top;\n",
              "    }\n",
              "\n",
              "    .dataframe thead th {\n",
              "        text-align: right;\n",
              "    }\n",
              "</style>\n",
              "<table border=\"1\" class=\"dataframe\">\n",
              "  <thead>\n",
              "    <tr style=\"text-align: right;\">\n",
              "      <th></th>\n",
              "      <th>Open</th>\n",
              "      <th>High</th>\n",
              "      <th>Low</th>\n",
              "      <th>Close</th>\n",
              "      <th>Volume</th>\n",
              "    </tr>\n",
              "    <tr>\n",
              "      <th>Date</th>\n",
              "      <th></th>\n",
              "      <th></th>\n",
              "      <th></th>\n",
              "      <th></th>\n",
              "      <th></th>\n",
              "    </tr>\n",
              "  </thead>\n",
              "  <tbody>\n",
              "    <tr>\n",
              "      <th>2020-01-01</th>\n",
              "      <td>7194.892090</td>\n",
              "      <td>7254.330566</td>\n",
              "      <td>7174.944336</td>\n",
              "      <td>7200.174316</td>\n",
              "      <td>18565664997</td>\n",
              "    </tr>\n",
              "    <tr>\n",
              "      <th>2020-01-02</th>\n",
              "      <td>7202.551270</td>\n",
              "      <td>7212.155273</td>\n",
              "      <td>6935.270020</td>\n",
              "      <td>6985.470215</td>\n",
              "      <td>20802083465</td>\n",
              "    </tr>\n",
              "    <tr>\n",
              "      <th>2020-01-03</th>\n",
              "      <td>6984.428711</td>\n",
              "      <td>7413.715332</td>\n",
              "      <td>6914.996094</td>\n",
              "      <td>7344.884277</td>\n",
              "      <td>28111481032</td>\n",
              "    </tr>\n",
              "    <tr>\n",
              "      <th>2020-01-04</th>\n",
              "      <td>7345.375488</td>\n",
              "      <td>7427.385742</td>\n",
              "      <td>7309.514160</td>\n",
              "      <td>7410.656738</td>\n",
              "      <td>18444271275</td>\n",
              "    </tr>\n",
              "    <tr>\n",
              "      <th>2020-01-05</th>\n",
              "      <td>7410.451660</td>\n",
              "      <td>7544.497070</td>\n",
              "      <td>7400.535645</td>\n",
              "      <td>7411.317383</td>\n",
              "      <td>19725074095</td>\n",
              "    </tr>\n",
              "  </tbody>\n",
              "</table>\n",
              "</div>\n",
              "      <button class=\"colab-df-convert\" onclick=\"convertToInteractive('df-08c298d1-00e3-4f5d-ba60-dd475aad733d')\"\n",
              "              title=\"Convert this dataframe to an interactive table.\"\n",
              "              style=\"display:none;\">\n",
              "        \n",
              "  <svg xmlns=\"http://www.w3.org/2000/svg\" height=\"24px\"viewBox=\"0 0 24 24\"\n",
              "       width=\"24px\">\n",
              "    <path d=\"M0 0h24v24H0V0z\" fill=\"none\"/>\n",
              "    <path d=\"M18.56 5.44l.94 2.06.94-2.06 2.06-.94-2.06-.94-.94-2.06-.94 2.06-2.06.94zm-11 1L8.5 8.5l.94-2.06 2.06-.94-2.06-.94L8.5 2.5l-.94 2.06-2.06.94zm10 10l.94 2.06.94-2.06 2.06-.94-2.06-.94-.94-2.06-.94 2.06-2.06.94z\"/><path d=\"M17.41 7.96l-1.37-1.37c-.4-.4-.92-.59-1.43-.59-.52 0-1.04.2-1.43.59L10.3 9.45l-7.72 7.72c-.78.78-.78 2.05 0 2.83L4 21.41c.39.39.9.59 1.41.59.51 0 1.02-.2 1.41-.59l7.78-7.78 2.81-2.81c.8-.78.8-2.07 0-2.86zM5.41 20L4 18.59l7.72-7.72 1.47 1.35L5.41 20z\"/>\n",
              "  </svg>\n",
              "      </button>\n",
              "      \n",
              "  <style>\n",
              "    .colab-df-container {\n",
              "      display:flex;\n",
              "      flex-wrap:wrap;\n",
              "      gap: 12px;\n",
              "    }\n",
              "\n",
              "    .colab-df-convert {\n",
              "      background-color: #E8F0FE;\n",
              "      border: none;\n",
              "      border-radius: 50%;\n",
              "      cursor: pointer;\n",
              "      display: none;\n",
              "      fill: #1967D2;\n",
              "      height: 32px;\n",
              "      padding: 0 0 0 0;\n",
              "      width: 32px;\n",
              "    }\n",
              "\n",
              "    .colab-df-convert:hover {\n",
              "      background-color: #E2EBFA;\n",
              "      box-shadow: 0px 1px 2px rgba(60, 64, 67, 0.3), 0px 1px 3px 1px rgba(60, 64, 67, 0.15);\n",
              "      fill: #174EA6;\n",
              "    }\n",
              "\n",
              "    [theme=dark] .colab-df-convert {\n",
              "      background-color: #3B4455;\n",
              "      fill: #D2E3FC;\n",
              "    }\n",
              "\n",
              "    [theme=dark] .colab-df-convert:hover {\n",
              "      background-color: #434B5C;\n",
              "      box-shadow: 0px 1px 3px 1px rgba(0, 0, 0, 0.15);\n",
              "      filter: drop-shadow(0px 1px 2px rgba(0, 0, 0, 0.3));\n",
              "      fill: #FFFFFF;\n",
              "    }\n",
              "  </style>\n",
              "\n",
              "      <script>\n",
              "        const buttonEl =\n",
              "          document.querySelector('#df-08c298d1-00e3-4f5d-ba60-dd475aad733d button.colab-df-convert');\n",
              "        buttonEl.style.display =\n",
              "          google.colab.kernel.accessAllowed ? 'block' : 'none';\n",
              "\n",
              "        async function convertToInteractive(key) {\n",
              "          const element = document.querySelector('#df-08c298d1-00e3-4f5d-ba60-dd475aad733d');\n",
              "          const dataTable =\n",
              "            await google.colab.kernel.invokeFunction('convertToInteractive',\n",
              "                                                     [key], {});\n",
              "          if (!dataTable) return;\n",
              "\n",
              "          const docLinkHtml = 'Like what you see? Visit the ' +\n",
              "            '<a target=\"_blank\" href=https://colab.research.google.com/notebooks/data_table.ipynb>data table notebook</a>'\n",
              "            + ' to learn more about interactive tables.';\n",
              "          element.innerHTML = '';\n",
              "          dataTable['output_type'] = 'display_data';\n",
              "          await google.colab.output.renderOutput(dataTable, element);\n",
              "          const docLink = document.createElement('div');\n",
              "          docLink.innerHTML = docLinkHtml;\n",
              "          element.appendChild(docLink);\n",
              "        }\n",
              "      </script>\n",
              "    </div>\n",
              "  </div>\n",
              "  "
            ]
          },
          "metadata": {},
          "execution_count": 40
        }
      ],
      "source": [
        "# Preprocessing the data\n",
        "#df = pd.read_csv('BTC-USD.csv', index_col = 'Date', parse_dates=True)\n",
        "df.drop(columns=['Adj Close'], inplace=True)\n",
        "df.head(5)"
      ]
    },
    {
      "cell_type": "code",
      "source": [
        "plt.plot(df.Close)\n",
        "plt.xlabel(\"Time\")\n",
        "plt.ylabel(\"Price (USD)\")\n",
        "plt.title(\"Bitcoin price over time\")\n",
        "plt.savefig(\"initial_plot.png\", dpi=250)\n",
        "plt.show();"
      ],
      "metadata": {
        "colab": {
          "base_uri": "https://localhost:8080/",
          "height": 325
        },
        "id": "fM_VFvmTgpb5",
        "outputId": "9581b991-0981-4e13-db6c-851afcc73cd1"
      },
      "execution_count": 41,
      "outputs": [
        {
          "output_type": "display_data",
          "data": {
            "text/plain": [
              "<Figure size 432x288 with 1 Axes>"
            ],
            "image/png": "[encoded data removed]"
          },
          "metadata": {}
        }
      ]
    },
    {
      "cell_type": "code",
      "source": [
        "# Setting inputs and outputs\n",
        "X, y = df.drop(columns=['Close']), df.Close.values\n",
        "X.shape, y.shape\n"
      ],
      "metadata": {
        "colab": {
          "base_uri": "https://localhost:8080/"
        },
        "id": "QC1ZDJn-han5",
        "outputId": "6fd2c231-cde6-429d-a1ba-40a38ef4347c"
      },
      "execution_count": 42,
      "outputs": [
        {
          "output_type": "execute_result",
          "data": {
            "text/plain": [
              "((911, 4), (911,))"
            ]
          },
          "metadata": {},
          "execution_count": 42
        }
      ]
    },
    {
      "cell_type": "code",
      "source": [
        "from sklearn.preprocessing import StandardScaler, MinMaxScaler\n",
        "mm = MinMaxScaler()\n",
        "ss = StandardScaler()\n",
        "\n",
        "X_trans = ss.fit_transform(X)\n",
        "y_trans = mm.fit_transform(y.reshape(-1, 1))"
      ],
      "metadata": {
        "id": "8dB6f8U1hx9I"
      },
      "execution_count": 43,
      "outputs": []
    },
    {
      "cell_type": "markdown",
      "source": [
        "Now comes the slightly fiddly part. We want to feed in 100 samples, up to the current day, and predict the next 50 time step values. To do this, we need a special function to ensure that the corresponding indices of X and y represent this structure. Examine this function carefully, but essentially it just boils down to getting 100 samples from X, then looking at the 50 next indices in y, and patching these together. Note that because of this we'll throw out the first 50 values of y."
      ],
      "metadata": {
        "id": "ds8BR9Wbh7SJ"
      }
    },
    {
      "cell_type": "code",
      "source": [
        "# split a multivariate sequence past, future samples (X and y)\n",
        "def split_sequences(input_sequences, output_sequence, n_steps_in, n_steps_out):\n",
        "    X, y = list(), list() # instantiate X and y\n",
        "    for i in range(len(input_sequences)):\n",
        "        # find the end of the input, output sequence\n",
        "        end_ix = i + n_steps_in\n",
        "        out_end_ix = end_ix + n_steps_out - 1\n",
        "        # check if we are beyond the dataset\n",
        "        if out_end_ix > len(input_sequences): break\n",
        "        # gather input and output of the pattern\n",
        "        seq_x, seq_y = input_sequences[i:end_ix], output_sequence[end_ix-1:out_end_ix, -1]\n",
        "        X.append(seq_x), y.append(seq_y)\n",
        "    return np.array(X), np.array(y)\n",
        "\n",
        "X_ss, y_mm = split_sequences(X_trans, y_trans, 100, 50)\n",
        "print(X_ss.shape, y_mm.shape)"
      ],
      "metadata": {
        "colab": {
          "base_uri": "https://localhost:8080/"
        },
        "id": "vZNC6G0Ih6xQ",
        "outputId": "db0daf35-5f32-4802-e492-e242adbc5ff9"
      },
      "execution_count": 44,
      "outputs": [
        {
          "output_type": "stream",
          "name": "stdout",
          "text": [
            "(763, 100, 4) (763, 50)\n"
          ]
        }
      ]
    },
    {
      "cell_type": "markdown",
      "source": [
        "Let’s check that the first sample in y_mm indeed starts at the 100th sample in the original target y vector."
      ],
      "metadata": {
        "id": "bmSyz6Ksia65"
      }
    },
    {
      "cell_type": "code",
      "source": [
        "\n",
        "assert y_mm[0].all() == y_trans[99:149].squeeze(1).all()\n",
        "\n",
        "y_mm[0]"
      ],
      "metadata": {
        "colab": {
          "base_uri": "https://localhost:8080/"
        },
        "id": "hCc74a09h22f",
        "outputId": "66d15b10-5215-471d-92cf-a9f7d3be7b6c"
      },
      "execution_count": 45,
      "outputs": [
        {
          "output_type": "execute_result",
          "data": {
            "text/plain": [
              "array([0.03724359, 0.03026877, 0.03016636, 0.03195575, 0.02994198,\n",
              "       0.02990029, 0.02670012, 0.03428358, 0.03395417, 0.03653389,\n",
              "       0.03544372, 0.03053181, 0.03050569, 0.03429002, 0.03928262,\n",
              "       0.04121847, 0.04152256, 0.04327876, 0.04512766, 0.0453107 ,\n",
              "       0.06118997, 0.05891372, 0.06220806, 0.06418631, 0.0627305 ,\n",
              "       0.06297309, 0.06441753, 0.06866207, 0.07956942, 0.07783045,\n",
              "       0.07385624, 0.06047735, 0.05800699, 0.06124492, 0.06868165,\n",
              "       0.07609001, 0.06961158, 0.07039144, 0.07508384, 0.07597585,\n",
              "       0.07601519, 0.07272334, 0.06567466, 0.06728523, 0.06771194,\n",
              "       0.06101952, 0.06288172, 0.06173337, 0.06726032, 0.07276759])"
            ]
          },
          "metadata": {},
          "execution_count": 45
        }
      ]
    },
    {
      "cell_type": "code",
      "source": [
        "y_trans[99:149].squeeze(1)"
      ],
      "metadata": {
        "colab": {
          "base_uri": "https://localhost:8080/"
        },
        "id": "pmnHTBXXiOZF",
        "outputId": "6005ee6d-e254-49c5-b2b7-78cc33962133"
      },
      "execution_count": 46,
      "outputs": [
        {
          "output_type": "execute_result",
          "data": {
            "text/plain": [
              "array([0.03724359, 0.03026877, 0.03016636, 0.03195575, 0.02994198,\n",
              "       0.02990029, 0.02670012, 0.03428358, 0.03395417, 0.03653389,\n",
              "       0.03544372, 0.03053181, 0.03050569, 0.03429002, 0.03928262,\n",
              "       0.04121847, 0.04152256, 0.04327876, 0.04512766, 0.0453107 ,\n",
              "       0.06118997, 0.05891372, 0.06220806, 0.06418631, 0.0627305 ,\n",
              "       0.06297309, 0.06441753, 0.06866207, 0.07956942, 0.07783045,\n",
              "       0.07385624, 0.06047735, 0.05800699, 0.06124492, 0.06868165,\n",
              "       0.07609001, 0.06961158, 0.07039144, 0.07508384, 0.07597585,\n",
              "       0.07601519, 0.07272334, 0.06567466, 0.06728523, 0.06771194,\n",
              "       0.06101952, 0.06288172, 0.06173337, 0.06726032, 0.07276759])"
            ]
          },
          "metadata": {},
          "execution_count": 46
        }
      ]
    },
    {
      "cell_type": "markdown",
      "source": [
        "Above, we mentioned that we wanted to predict the data a several months into the future. Thus, we’ll use a training data size of 95%, with 5% left for the remaining data that we’re going to predict. This gives us a training set size of 2763 days, or about seven and a half years. We will predict 145 days into the future, which is almost 5 months.\n",
        "\n"
      ],
      "metadata": {
        "id": "SMyTA9eaigEt"
      }
    },
    {
      "cell_type": "code",
      "source": [
        "total_samples = len(X)\n",
        "train_test_cutoff = round(0.90 * total_samples)\n",
        "\n",
        "X_train = X_ss[:-150]\n",
        "X_test = X_ss[-150:]\n",
        "\n",
        "y_train = y_mm[:-150]\n",
        "y_test = y_mm[-150:] \n",
        "\n",
        "print(\"Training Shape:\", X_train.shape, y_train.shape)\n",
        "print(\"Testing Shape:\", X_test.shape, y_test.shape)"
      ],
      "metadata": {
        "colab": {
          "base_uri": "https://localhost:8080/"
        },
        "id": "uCqbyZSwiS5V",
        "outputId": "11b0a7b8-8f9e-4457-8710-8463d60b23fe"
      },
      "execution_count": 47,
      "outputs": [
        {
          "output_type": "stream",
          "name": "stdout",
          "text": [
            "Training Shape: (613, 100, 4) (613, 50)\n",
            "Testing Shape: (150, 100, 4) (150, 50)\n"
          ]
        }
      ]
    },
    {
      "cell_type": "markdown",
      "source": [
        "We need to now, as usual, convert our data into tensors. This is fairly easy — we do so by calling torch.tensor() on our object, and setting the property requires_grad=True. Some old Pytorch tutorials might have you believe that we need to apply the wrapper Variable here. However, this is deprecated, and now the input tensor to be forward propagated has to be can facilitate automatic back propagation (through backward()) without being wrapped in a variable."
      ],
      "metadata": {
        "id": "-_KEQbLNioR0"
      }
    },
    {
      "cell_type": "code",
      "source": [
        "# hide\n",
        "import torch\n",
        "import torch.nn as nn\n",
        "from torch.autograd import Variable "
      ],
      "metadata": {
        "id": "X-SPXX6alruM"
      },
      "execution_count": 59,
      "outputs": []
    },
    {
      "cell_type": "markdown",
      "source": [
        "We need to now, as usual, convert our data into tensors. This is fairly easy - we do so by calling torch.tensor() on our object, and setting the property requires_grad=True. Some old Pytorch tutorials might have you believe that we need to apply the wrapper Variable here. However, this is deprecated, and now the input tensor to be forward propagated has to be can facilitate automatic back propagation (through backward()) without being wrapped in a variable."
      ],
      "metadata": {
        "id": "6opT_XmcrW3B"
      }
    },
    {
      "cell_type": "code",
      "source": [
        "# convert to pytorch tensors\n",
        "X_train_tensors = Variable(torch.Tensor(X_train), requires_grad=True)\n",
        "X_test_tensors = Variable(torch.Tensor(X_test))\n",
        "\n",
        "y_train_tensors = Variable(torch.Tensor(y_train))\n",
        "y_test_tensors = Variable(torch.Tensor(y_test))"
      ],
      "metadata": {
        "id": "Jxj1QCoFikvc"
      },
      "execution_count": 60,
      "outputs": []
    },
    {
      "cell_type": "markdown",
      "source": [
        "If we look at the documentation for the multi-layer torch.nn.LSTM, we see that the input shape depends on whether the parameter batch_first is true. Since we are accustomed to having the first dimension of our data be the batch, we will set batch_first to true. The size of the input is then (𝑁,𝐿,𝐻_𝑖𝑛), where 𝑁 is the batch size, 𝐿 is the sequence length, and 𝐻_𝑖𝑛 is the input size (i.e. the number of features). In other words, we want the dimensions to be the rows of the dataframe in the first dimension, followed by the length of the dataframe in the next dimension (representing the length of the input sequence), and finally the features (of which we have four) in the final dimension.\n",
        "\n",
        "To reshape the tensors into our required shape, we use torch.reshape. This takes as arguments the tensors we are reshaping, and then a tuple of the shape we need to reshape to. For the rows of the dataframe, we can simply look at the shape of the first dimension of X_train_tensors.shape[0]. Since we are applying an LSTM, we recall that the sequence length we feed in is simply 1. (Remember that the whole point of the LSTM is not feeding in tonnes of data at each point, because the memory is handled by the inner workings of the LSTM cell. For more on this, see my previous article.) Finally, we want the last dimension to be the number of features, which is stored in X_train_tensors.shape[1].\n",
        "\n",
        "\n",
        "\n",
        "\n"
      ],
      "metadata": {
        "id": "pRd0KQDWi4YK"
      }
    },
    {
      "cell_type": "code",
      "source": [
        "# reshaping to rows, timestamps, features\n",
        "X_train_tensors_final = torch.reshape(X_train_tensors,   \n",
        "                                      (X_train_tensors.shape[0], 100, \n",
        "                                       X_train_tensors.shape[2]))\n",
        "X_test_tensors_final = torch.reshape(X_test_tensors,  \n",
        "                                     (X_test_tensors.shape[0], 100, \n",
        "                                      X_test_tensors.shape[2])) \n",
        "\n",
        "print(\"Training Shape:\", X_train_tensors_final.shape, y_train_tensors.shape)\n",
        "print(\"Testing Shape:\", X_test_tensors_final.shape, y_test_tensors.shape) "
      ],
      "metadata": {
        "colab": {
          "base_uri": "https://localhost:8080/"
        },
        "id": "QmK36lpIisCf",
        "outputId": "9cf2897e-0c74-44d8-be11-f4704b9d0cf5"
      },
      "execution_count": 61,
      "outputs": [
        {
          "output_type": "stream",
          "name": "stdout",
          "text": [
            "Training Shape: torch.Size([613, 100, 4]) torch.Size([613, 50])\n",
            "Testing Shape: torch.Size([150, 100, 4]) torch.Size([150, 50])\n"
          ]
        }
      ]
    },
    {
      "cell_type": "markdown",
      "source": [
        "One more thing we want to check: the data logic of the test set. Sequential data is hard to get your head around, especially when it comes to generating a test-set for multi-step output models. Here, we want to take the 100 previous predictors up to the current time-step, and predict 50 time-steps into the future. In the test set, we have 150 batch feature samples, each consisting of 100 time-steps and four feature predictors. In the targets for the test set, we again have 150 batch samples, each consisting of an array of length 50 of scalar outputs.\n",
        "\n",
        "Since we want a way to validate our results, we need to predict the Bitcoin price for 50 time steps in the test set for which we have the data (i.e. the test targets). Because of the way we wrote split_sequence() above, we simply need the last sample of 100 days in X_test, run the model on it, and compare these predictions with the last sample of 50 days of y_test. These correspond to a period of 100 days in X_test's last sample, proceeded immediately by the next 50 days in the last sample of y_test.\n",
        "\n",
        "We want to check that the 50 values we will be predicting match the last 50 values of y in the test set."
      ],
      "metadata": {
        "id": "5NrwQlVfjMl_"
      }
    },
    {
      "cell_type": "code",
      "source": [
        "X_check, y_check = split_sequences(X, y.reshape(-1, 1), 100, 50)\n",
        "X_check[-1][0:4]"
      ],
      "metadata": {
        "colab": {
          "base_uri": "https://localhost:8080/"
        },
        "id": "xqzCPzVqjLj3",
        "outputId": "98d6256c-2b8a-44f3-adaa-412165380e0a"
      },
      "execution_count": 62,
      "outputs": [
        {
          "output_type": "execute_result",
          "data": {
            "text/plain": [
              "array([[3.84817656e+04, 3.91151328e+04, 3.81136641e+04, 2.02885003e+10],\n",
              "       [3.87437148e+04, 3.88346172e+04, 3.68327305e+04, 1.91551894e+10],\n",
              "       [3.69448047e+04, 3.71546016e+04, 3.63755391e+04, 1.85915348e+10],\n",
              "       [3.71492656e+04, 4.15277852e+04, 3.70936289e+04, 2.94122108e+10]])"
            ]
          },
          "metadata": {},
          "execution_count": 62
        }
      ]
    },
    {
      "cell_type": "code",
      "source": [
        "X.iloc[-149:-145]"
      ],
      "metadata": {
        "colab": {
          "base_uri": "https://localhost:8080/",
          "height": 206
        },
        "id": "FO1VfVowjVkH",
        "outputId": "63669e77-dd76-4879-8abc-b25140c2668f"
      },
      "execution_count": 63,
      "outputs": [
        {
          "output_type": "execute_result",
          "data": {
            "text/plain": [
              "                    Open          High           Low       Volume\n",
              "Date                                                             \n",
              "2022-02-01  38481.765625  39115.132812  38113.664062  20288500328\n",
              "2022-02-02  38743.714844  38834.617188  36832.730469  19155189416\n",
              "2022-02-03  36944.804688  37154.601562  36375.539062  18591534769\n",
              "2022-02-04  37149.265625  41527.785156  37093.628906  29412210792"
            ],
            "text/html": [
              "\n",
              "  <div id=\"df-fd761fe3-7d47-4ff8-952c-4c1a98522a5c\">\n",
              "    <div class=\"colab-df-container\">\n",
              "      <div>\n",
              "<style scoped>\n",
              "    .dataframe tbody tr th:only-of-type {\n",
              "        vertical-align: middle;\n",
              "    }\n",
              "\n",
              "    .dataframe tbody tr th {\n",
              "        vertical-align: top;\n",
              "    }\n",
              "\n",
              "    .dataframe thead th {\n",
              "        text-align: right;\n",
              "    }\n",
              "</style>\n",
              "<table border=\"1\" class=\"dataframe\">\n",
              "  <thead>\n",
              "    <tr style=\"text-align: right;\">\n",
              "      <th></th>\n",
              "      <th>Open</th>\n",
              "      <th>High</th>\n",
              "      <th>Low</th>\n",
              "      <th>Volume</th>\n",
              "    </tr>\n",
              "    <tr>\n",
              "      <th>Date</th>\n",
              "      <th></th>\n",
              "      <th></th>\n",
              "      <th></th>\n",
              "      <th></th>\n",
              "    </tr>\n",
              "  </thead>\n",
              "  <tbody>\n",
              "    <tr>\n",
              "      <th>2022-02-01</th>\n",
              "      <td>38481.765625</td>\n",
              "      <td>39115.132812</td>\n",
              "      <td>38113.664062</td>\n",
              "      <td>20288500328</td>\n",
              "    </tr>\n",
              "    <tr>\n",
              "      <th>2022-02-02</th>\n",
              "      <td>38743.714844</td>\n",
              "      <td>38834.617188</td>\n",
              "      <td>36832.730469</td>\n",
              "      <td>19155189416</td>\n",
              "    </tr>\n",
              "    <tr>\n",
              "      <th>2022-02-03</th>\n",
              "      <td>36944.804688</td>\n",
              "      <td>37154.601562</td>\n",
              "      <td>36375.539062</td>\n",
              "      <td>18591534769</td>\n",
              "    </tr>\n",
              "    <tr>\n",
              "      <th>2022-02-04</th>\n",
              "      <td>37149.265625</td>\n",
              "      <td>41527.785156</td>\n",
              "      <td>37093.628906</td>\n",
              "      <td>29412210792</td>\n",
              "    </tr>\n",
              "  </tbody>\n",
              "</table>\n",
              "</div>\n",
              "      <button class=\"colab-df-convert\" onclick=\"convertToInteractive('df-fd761fe3-7d47-4ff8-952c-4c1a98522a5c')\"\n",
              "              title=\"Convert this dataframe to an interactive table.\"\n",
              "              style=\"display:none;\">\n",
              "        \n",
              "  <svg xmlns=\"http://www.w3.org/2000/svg\" height=\"24px\"viewBox=\"0 0 24 24\"\n",
              "       width=\"24px\">\n",
              "    <path d=\"M0 0h24v24H0V0z\" fill=\"none\"/>\n",
              "    <path d=\"M18.56 5.44l.94 2.06.94-2.06 2.06-.94-2.06-.94-.94-2.06-.94 2.06-2.06.94zm-11 1L8.5 8.5l.94-2.06 2.06-.94-2.06-.94L8.5 2.5l-.94 2.06-2.06.94zm10 10l.94 2.06.94-2.06 2.06-.94-2.06-.94-.94-2.06-.94 2.06-2.06.94z\"/><path d=\"M17.41 7.96l-1.37-1.37c-.4-.4-.92-.59-1.43-.59-.52 0-1.04.2-1.43.59L10.3 9.45l-7.72 7.72c-.78.78-.78 2.05 0 2.83L4 21.41c.39.39.9.59 1.41.59.51 0 1.02-.2 1.41-.59l7.78-7.78 2.81-2.81c.8-.78.8-2.07 0-2.86zM5.41 20L4 18.59l7.72-7.72 1.47 1.35L5.41 20z\"/>\n",
              "  </svg>\n",
              "      </button>\n",
              "      \n",
              "  <style>\n",
              "    .colab-df-container {\n",
              "      display:flex;\n",
              "      flex-wrap:wrap;\n",
              "      gap: 12px;\n",
              "    }\n",
              "\n",
              "    .colab-df-convert {\n",
              "      background-color: #E8F0FE;\n",
              "      border: none;\n",
              "      border-radius: 50%;\n",
              "      cursor: pointer;\n",
              "      display: none;\n",
              "      fill: #1967D2;\n",
              "      height: 32px;\n",
              "      padding: 0 0 0 0;\n",
              "      width: 32px;\n",
              "    }\n",
              "\n",
              "    .colab-df-convert:hover {\n",
              "      background-color: #E2EBFA;\n",
              "      box-shadow: 0px 1px 2px rgba(60, 64, 67, 0.3), 0px 1px 3px 1px rgba(60, 64, 67, 0.15);\n",
              "      fill: #174EA6;\n",
              "    }\n",
              "\n",
              "    [theme=dark] .colab-df-convert {\n",
              "      background-color: #3B4455;\n",
              "      fill: #D2E3FC;\n",
              "    }\n",
              "\n",
              "    [theme=dark] .colab-df-convert:hover {\n",
              "      background-color: #434B5C;\n",
              "      box-shadow: 0px 1px 3px 1px rgba(0, 0, 0, 0.15);\n",
              "      filter: drop-shadow(0px 1px 2px rgba(0, 0, 0, 0.3));\n",
              "      fill: #FFFFFF;\n",
              "    }\n",
              "  </style>\n",
              "\n",
              "      <script>\n",
              "        const buttonEl =\n",
              "          document.querySelector('#df-fd761fe3-7d47-4ff8-952c-4c1a98522a5c button.colab-df-convert');\n",
              "        buttonEl.style.display =\n",
              "          google.colab.kernel.accessAllowed ? 'block' : 'none';\n",
              "\n",
              "        async function convertToInteractive(key) {\n",
              "          const element = document.querySelector('#df-fd761fe3-7d47-4ff8-952c-4c1a98522a5c');\n",
              "          const dataTable =\n",
              "            await google.colab.kernel.invokeFunction('convertToInteractive',\n",
              "                                                     [key], {});\n",
              "          if (!dataTable) return;\n",
              "\n",
              "          const docLinkHtml = 'Like what you see? Visit the ' +\n",
              "            '<a target=\"_blank\" href=https://colab.research.google.com/notebooks/data_table.ipynb>data table notebook</a>'\n",
              "            + ' to learn more about interactive tables.';\n",
              "          element.innerHTML = '';\n",
              "          dataTable['output_type'] = 'display_data';\n",
              "          await google.colab.output.renderOutput(dataTable, element);\n",
              "          const docLink = document.createElement('div');\n",
              "          docLink.innerHTML = docLinkHtml;\n",
              "          element.appendChild(docLink);\n",
              "        }\n",
              "      </script>\n",
              "    </div>\n",
              "  </div>\n",
              "  "
            ]
          },
          "metadata": {},
          "execution_count": 63
        }
      ]
    },
    {
      "cell_type": "markdown",
      "source": [
        "Perfect, the first four rows of our data are as they should be. Note that X_check[-1] should be identical to X.iloc[-149:-49], ending 50 days before the end of our dataset. So we are taking the 100 time-steps of information, up to the 26th of November 2021, and attempting to predict the 50 days after that, up to the 14th January 2022. For one final check, we make sure that the final batch sample in our test targets matches these dates for prediction."
      ],
      "metadata": {
        "id": "u_fc4LAQjdoy"
      }
    },
    {
      "cell_type": "code",
      "source": [
        "y_check[-1]"
      ],
      "metadata": {
        "colab": {
          "base_uri": "https://localhost:8080/"
        },
        "id": "8Wid1KWwjYpO",
        "outputId": "a5fab152-22ae-4657-ee88-a920d4148c29"
      },
      "execution_count": 64,
      "outputs": [
        {
          "output_type": "execute_result",
          "data": {
            "text/plain": [
              "array([28936.35546875, 29047.75195312, 29283.10351562, 30101.265625  ,\n",
              "       31305.11328125, 29862.91796875, 30425.85742188, 28720.27148438,\n",
              "       30314.33398438, 29200.74023438, 29432.2265625 , 30323.72265625,\n",
              "       29098.91015625, 29655.5859375 , 29562.36132812, 29267.22460938,\n",
              "       28627.57421875, 28814.90039062, 29445.95703125, 31726.390625  ,\n",
              "       31792.31054688, 29799.08007812, 30467.48828125, 29704.390625  ,\n",
              "       29832.9140625 , 29906.66210938, 31370.671875  , 31155.47851562,\n",
              "       30214.35546875, 30111.99804688, 29083.8046875 , 28360.81054688,\n",
              "       26762.6484375 , 22487.38867188, 22206.79296875, 22572.83984375,\n",
              "       20381.65039062, 20471.48242188, 19017.64257812, 20553.27148438,\n",
              "       20599.53710938, 20710.59765625, 19987.02929688, 21085.87695312,\n",
              "       21231.65625   , 21502.33789062, 21027.29492188, 20735.47851562,\n",
              "       20280.63476562, 20013.8515625 ])"
            ]
          },
          "metadata": {},
          "execution_count": 64
        }
      ]
    },
    {
      "cell_type": "code",
      "source": [
        "df.Close.values[-50:]"
      ],
      "metadata": {
        "colab": {
          "base_uri": "https://localhost:8080/"
        },
        "id": "dQLirS_5jg35",
        "outputId": "6bac30a3-eca8-4cc4-dc45-0fc66af7aa69"
      },
      "execution_count": 65,
      "outputs": [
        {
          "output_type": "execute_result",
          "data": {
            "text/plain": [
              "array([28936.35546875, 29047.75195312, 29283.10351562, 30101.265625  ,\n",
              "       31305.11328125, 29862.91796875, 30425.85742188, 28720.27148438,\n",
              "       30314.33398438, 29200.74023438, 29432.2265625 , 30323.72265625,\n",
              "       29098.91015625, 29655.5859375 , 29562.36132812, 29267.22460938,\n",
              "       28627.57421875, 28814.90039062, 29445.95703125, 31726.390625  ,\n",
              "       31792.31054688, 29799.08007812, 30467.48828125, 29704.390625  ,\n",
              "       29832.9140625 , 29906.66210938, 31370.671875  , 31155.47851562,\n",
              "       30214.35546875, 30111.99804688, 29083.8046875 , 28360.81054688,\n",
              "       26762.6484375 , 22487.38867188, 22206.79296875, 22572.83984375,\n",
              "       20381.65039062, 20471.48242188, 19017.64257812, 20553.27148438,\n",
              "       20599.53710938, 20710.59765625, 19987.02929688, 21085.87695312,\n",
              "       21231.65625   , 21502.33789062, 21027.29492188, 20735.47851562,\n",
              "       20280.63476562, 20013.8515625 ])"
            ]
          },
          "metadata": {},
          "execution_count": 65
        }
      ]
    },
    {
      "cell_type": "markdown",
      "source": [
        "You can remove the .values from the code above to check for yourself that the dates match.\n",
        "\n",
        "That was a lot of indexing and checking. To summarise, the main performance test for our model will be on the last batch sample in the test set. This will consist of predictors from the 100 time-steps up to the 26th November 2021, and this information will be used by our model to predict the next 50 days of Bitcoin prices, up to the 14th January 2022. In this way, we will validate model performance by comparing predictions to the actual prices in that 50 day window."
      ],
      "metadata": {
        "id": "9tcxpIjljpb3"
      }
    },
    {
      "cell_type": "markdown",
      "source": [
        "### LSTM model\n",
        "Now we need to construct the LSTM class, inheriting from nn.Module. In contrast to our previous univariate LSTM, we're going to build the model with the nn.LSTM rather than nn.LSTMCell. This is for two reasons: firstly, it's nice to be exposed to both so that we have the option. Secondly, we don't need the flexibility that nn.LSTMCell provides. We know that nn.LSTM is essentially just a recurrent application of nn.LSTMCell. Thus, we would only use nn.LSTMCell if we wanted to apply other transformation in between different LSTM layers, such as batch-normalisation and dropout. Here however, we can implement dropout automatically using the dropout parameter in nn.LSTM. We've already standardised our data. Thus, there's not a whole lot of reasons to use the more fiddly nn.LSTMCell.\n",
        "\n",
        "As per usual, we’ll present the entire model class first, and then break it down line by line."
      ],
      "metadata": {
        "id": "L05MS5EAjuwB"
      }
    },
    {
      "cell_type": "code",
      "source": [
        "class LSTM(nn.Module):\n",
        "    \n",
        "    def __init__(self, num_classes, input_size, hidden_size, num_layers):\n",
        "        super().__init__()\n",
        "        self.num_classes = num_classes # output size\n",
        "        self.num_layers = num_layers # number of recurrent layers in the lstm\n",
        "        self.input_size = input_size # input size\n",
        "        self.hidden_size = hidden_size # neurons in each lstm layer\n",
        "        # LSTM model\n",
        "        self.lstm = nn.LSTM(input_size=input_size, hidden_size=hidden_size,\n",
        "                            num_layers=num_layers, batch_first=True, dropout=0.2) # lstm\n",
        "        self.fc_1 =  nn.Linear(hidden_size, 128) # fully connected \n",
        "        self.fc_2 = nn.Linear(128, num_classes) # fully connected last layer\n",
        "        self.relu = nn.ReLU()\n",
        "        \n",
        "    def forward(self,x):\n",
        "        # hidden state\n",
        "        h_0 = Variable(torch.zeros(self.num_layers, x.size(0), self.hidden_size))\n",
        "        # cell state\n",
        "        c_0 = Variable(torch.zeros(self.num_layers, x.size(0), self.hidden_size))\n",
        "        # propagate input through LSTM\n",
        "        output, (hn, cn) = self.lstm(x, (h_0, c_0)) # (input, hidden, and internal state)\n",
        "        hn = hn.view(-1, self.hidden_size) # reshaping the data for Dense layer next\n",
        "        out = self.relu(hn)\n",
        "        out = self.fc_1(out) # first dense\n",
        "        out = self.relu(out) # relu\n",
        "        out = self.fc_2(out) # final output\n",
        "        return out"
      ],
      "metadata": {
        "id": "3ynLXYCvjkUy"
      },
      "execution_count": 66,
      "outputs": []
    },
    {
      "cell_type": "markdown",
      "source": [
        "In our initialisation, as usual we initialisation our parent class, nn.Module. Most initialisations in a Pytorch model are separated into two distinct chunks:\n",
        "\n",
        "Any variables that the class will need to reference, for things such as hidden layer size, input size, and number of layers.\n",
        "Defining the layers of the model (without connecting them) using the variables instantiated above.\n",
        "This is exactly what we do here. If you carefully read over the parameters for the LSTM layers, you know that we need to shape the LSTM with input size, hidden size, and number of recurrent layers. For instance, setting num_layers=2 would mean stacking two LSTMs together to form a stacked LSTM, with the second LSTM taking in outputs of the first LSTM and computing the final results. Thus, we initialise these three variables in the first part of the __init__. We also need to force our model to output only one predicted value, so we also initialise a number of classes variable.\n",
        "\n",
        "In the second part of __init__, we set out the layers of our network. Our first layer is obviously a recurrent application of LSTM cells, with all the parameters specified above.\n",
        "\n",
        "self.lstm = nn.LSTM(input_size=input_size, hidden_size=hidden_size, \n",
        "                    num_layers=num_layers, batch_first=True)"
      ],
      "metadata": {
        "id": "6teGm95pj8vC"
      }
    },
    {
      "cell_type": "markdown",
      "source": [
        "Next, we pass this to a fully connected layer, which has an input of hidden_size (the size of the output from the last LSTM layer) and outputs 128 activations. Then, we pass these 128 activations to another hidden layer, which evidently accepts 128 inputs, and which we want to output our num_classes (which in our case will be 1, see below). Finally, we pass this activation through a non-linear function, in our case ReLU.\n",
        "\n",
        "self.fc_1 =  nn.Linear(hidden_size, 128) # fully connected\n",
        "self.fc_2 = nn.Linear(128, num_classes) # fully connected last layer\n",
        "self.relu = nn.ReLU()"
      ],
      "metadata": {
        "id": "_xiuohWpkFMP"
      }
    },
    {
      "cell_type": "markdown",
      "source": [
        "## Training\n",
        "In our univariate example, we had a complicated loss function, because we said that the loss topology in sequential data is usually characterised by lots of long, flat valleys. Here, we’re going to keep things simple, and see what performance we can get with a typical regression loss function like mean-squared error. This also has the added benefit that we don’t have to restructure the training loop so as to include the callable closure in our parameter update. (If you don't know what I'm talking about, don't worry.)"
      ],
      "metadata": {
        "id": "oOvLHxcFkMfF"
      }
    },
    {
      "cell_type": "code",
      "source": [
        "def training_loop(n_epochs, lstm, optimiser, loss_fn, X_train, y_train,\n",
        "                  X_test, y_test):\n",
        "    for epoch in range(n_epochs):\n",
        "        lstm.train()\n",
        "        outputs = lstm.forward(X_train) # forward pass\n",
        "        optimiser.zero_grad() # calculate the gradient, manually setting to 0\n",
        "        # obtain the loss function\n",
        "        loss = loss_fn(outputs, y_train)\n",
        "        loss.backward() # calculates the loss of the loss function\n",
        "        optimiser.step() # improve from loss, i.e backprop\n",
        "        # test loss\n",
        "        lstm.eval()\n",
        "        test_preds = lstm(X_test)\n",
        "        test_loss = loss_fn(test_preds, y_test)\n",
        "        if epoch % 100 == 0:\n",
        "            print(\"Epoch: %d, train loss: %1.5f, test loss: %1.5f\" % (epoch, \n",
        "                                                                      loss.item(), \n",
        "                                                                      test_loss.item()))"
      ],
      "metadata": {
        "id": "t50Qnf_pkI2W"
      },
      "execution_count": 69,
      "outputs": []
    },
    {
      "cell_type": "markdown",
      "source": [
        "Let’s very quickly recap what’s going on here. We do the forward pass through our network by passing in our training tensors, which we shaped appropriately before. We then zero out the current gradients stored in the Pytorch computational graph. We compare these outputs from the forward pass with the actual train targets using our loss function, and backpropagate using loss.backward() to calculate the gradients of the loss with respect to the parameters (our weights and biases). We then use this loss to update the parameters.\n",
        "\n",
        "Setting the appropriate variables below, we can instantiate an instance of our LSTM model."
      ],
      "metadata": {
        "id": "8VFNuppikV0u"
      }
    },
    {
      "cell_type": "code",
      "source": [
        "import warnings\n",
        "warnings.filterwarnings('ignore')\n",
        "\n",
        "n_epochs = 1000 # 1000 epochs\n",
        "learning_rate = 0.001 # 0.001 lr\n",
        "\n",
        "input_size = 4 # number of features\n",
        "hidden_size = 2 # number of features in hidden state\n",
        "num_layers = 1 # number of stacked lstm layers\n",
        "\n",
        "num_classes = 50 # number of output classes \n",
        "\n",
        "lstm = LSTM(num_classes, \n",
        "              input_size, \n",
        "              hidden_size, \n",
        "              num_layers)"
      ],
      "metadata": {
        "id": "LRG_8grzkR0h"
      },
      "execution_count": 72,
      "outputs": []
    },
    {
      "cell_type": "markdown",
      "source": [
        "We use MSE as our loss function, and the well-known Adam optimiser.\n",
        "\n",
        "loss_fn = torch.nn.MSELoss() # mean-squared error for regression\n",
        "optimiser = torch.optim.Adam(lstm.parameters(), lr=learning_rate)\n",
        "\n",
        "Let’s train for 1000 epochs and see what happens. Recall in the previous article that a key part of LSTM debugging is visual cues. Here, our training is fast enough that we can just plot the result at the end, and if it’s off, we can change our parameters and run it again."
      ],
      "metadata": {
        "id": "TKj7aYQPkiGC"
      }
    },
    {
      "cell_type": "code",
      "source": [
        "loss_fn = torch.nn.MSELoss()    # mean-squared error for regression\n",
        "optimiser = torch.optim.Adam(lstm.parameters(), lr=learning_rate)"
      ],
      "metadata": {
        "id": "IgiLlCkqsd6Q"
      },
      "execution_count": 73,
      "outputs": []
    },
    {
      "cell_type": "code",
      "source": [
        "training_loop(n_epochs=n_epochs,\n",
        "              lstm=lstm,\n",
        "              optimiser=optimiser,\n",
        "              loss_fn=loss_fn,\n",
        "              X_train=X_train_tensors_final,\n",
        "              y_train=y_train_tensors,\n",
        "              X_test=X_test_tensors_final,\n",
        "              y_test=y_test_tensors)"
      ],
      "metadata": {
        "colab": {
          "base_uri": "https://localhost:8080/"
        },
        "id": "U1x_JWMFkccM",
        "outputId": "5b901ce9-4303-4f64-917d-405c868b0b01"
      },
      "execution_count": 74,
      "outputs": [
        {
          "output_type": "stream",
          "name": "stdout",
          "text": [
            "Epoch: 0, train loss: 0.33501, test loss: 0.30578\n",
            "Epoch: 100, train loss: 0.02362, test loss: 0.02356\n",
            "Epoch: 200, train loss: 0.01211, test loss: 0.02030\n",
            "Epoch: 300, train loss: 0.00982, test loss: 0.01947\n",
            "Epoch: 400, train loss: 0.00909, test loss: 0.02180\n",
            "Epoch: 500, train loss: 0.00885, test loss: 0.02363\n",
            "Epoch: 600, train loss: 0.00866, test loss: 0.02513\n",
            "Epoch: 700, train loss: 0.00851, test loss: 0.02616\n",
            "Epoch: 800, train loss: 0.00844, test loss: 0.02701\n",
            "Epoch: 900, train loss: 0.00838, test loss: 0.02761\n"
          ]
        }
      ]
    },
    {
      "cell_type": "markdown",
      "source": [
        "## Prediction\n",
        "A key part of prediction, if the variables have been standardised, is knowing what we need to pass to the model. That is: what do we need to standardise before passing it to the model? Well, we can answer this question easily: we just apply the same transforms to the predictors and targets so that whatever we feed to the model is exactly what the model is used to seeing. It wouldn’t make sense to not standardise our inputs; the model would be confused as to why they no longer have zero mean and unit variance.\n",
        "\n",
        "Let’s plot our results for the whole dataset."
      ],
      "metadata": {
        "id": "8TnqeO3Kkxfk"
      }
    },
    {
      "cell_type": "code",
      "source": [
        "df_X_ss = ss.transform(df.drop(columns=['Close'])) # old transformers\n",
        "df_y_mm = mm.transform(df.Close.values.reshape(-1, 1)) # old transformers\n",
        "# split the sequence\n",
        "df_X_ss, df_y_mm = split_sequences(df_X_ss, df_y_mm, 100, 50)\n",
        "# converting to tensors\n",
        "df_X_ss = Variable(torch.Tensor(df_X_ss))\n",
        "df_y_mm = Variable(torch.Tensor(df_y_mm))\n",
        "# reshaping the dataset\n",
        "df_X_ss = torch.reshape(df_X_ss, (df_X_ss.shape[0], 100, df_X_ss.shape[2]))\n",
        "\n",
        "train_predict = lstm(df_X_ss) # forward pass\n",
        "data_predict = train_predict.data.numpy() # numpy conversion\n",
        "dataY_plot = df_y_mm.data.numpy()\n",
        "\n",
        "data_predict = mm.inverse_transform(data_predict) # reverse transformation\n",
        "dataY_plot = mm.inverse_transform(dataY_plot)\n",
        "true, preds = [], []\n",
        "for i in range(len(dataY_plot)):\n",
        "    true.append(dataY_plot[i][0])\n",
        "for i in range(len(data_predict)):\n",
        "    preds.append(data_predict[i][0])\n",
        "plt.figure(figsize=(10,6)) #plotting\n",
        "plt.axvline(x=train_test_cutoff, c='r', linestyle='--') # size of the training set\n",
        "\n",
        "plt.plot(true, label='Actual Data') # actual plot\n",
        "plt.plot(preds, label='Predicted Data') # predicted plot\n",
        "plt.title('Time-Series Prediction')\n",
        "plt.legend()\n",
        "plt.savefig(\"whole_plot.png\", dpi=300)\n",
        "plt.show() "
      ],
      "metadata": {
        "colab": {
          "base_uri": "https://localhost:8080/",
          "height": 419
        },
        "id": "RQ7kxyiCkuK2",
        "outputId": "c4a91968-b4af-4c9b-c461-304c0ee280f7"
      },
      "execution_count": 75,
      "outputs": [
        {
          "output_type": "display_data",
          "data": {
            "text/plain": [
              "<Figure size 720x432 with 1 Axes>"
            ],
            "image/png": "[encoded data removed]"
          },
          "metadata": {}
        }
      ]
    },
    {
      "cell_type": "markdown",
      "source": [
        "Although this may seem fantastic, it’s not quite as good as it seems. This plot above, where the test data is any time step beyond the red-dashed line, seems to suggest that our model is amazingly accurate at predicting the price of Bitcoin, quite a few months into the future. However, what’s happening here is a form of data leakage: information about the test targets has leaked into our test features. That is, whenever we run the model, it has access to the Open price for that day, which is obviously going to be extremely close to the price Bitcoin ends up at for that particular time-step. When we loop over our predictions on the model, we append the first predicted value for that time-step. This means that every prediction we are plotting here has the benefit of being the next predicted value, rather than a sequence of 50 values into the future, like we set up in our problem definition.\n",
        "\n",
        "If we really want to see how our model is performing, we have to feed it the 100 time-steps of features before the final value in the test set, and then use one model forward pass to calculate the 50 time-step prices in the test set. Recall from above that we double-checked our test features in the final batch sample in the test set were the 100 time steps up to the time-step we’re attempting to predict. That is, we feed to model 100 days of information up to 26th November 2021, and get it to predict 50 days of Bitcoin prices, from this day to the 14th January 2022."
      ],
      "metadata": {
        "id": "Wj5UA2bJk7ek"
      }
    },
    {
      "cell_type": "code",
      "source": [
        "test_predict = lstm(X_test_tensors_final[-1].unsqueeze(0)) # get the last sample\n",
        "test_predict = test_predict.detach().numpy()\n",
        "test_predict = mm.inverse_transform(test_predict)\n",
        "test_predict = test_predict[0].tolist()\n",
        "\n",
        "test_target = y_test_tensors[-1].detach().numpy() # last sample again\n",
        "test_target = mm.inverse_transform(test_target.reshape(1, -1))\n",
        "test_target = test_target[0].tolist()\n",
        "\n",
        "plt.plot(test_target, label=\"Actual Data\")\n",
        "plt.plot(test_predict, label=\"LSTM Predictions\")\n",
        "plt.savefig(\"small_plot.png\", dpi=300)\n",
        "plt.show();"
      ],
      "metadata": {
        "colab": {
          "base_uri": "https://localhost:8080/",
          "height": 282
        },
        "id": "bP1IyQXuk24P",
        "outputId": "fe8f97fa-27c9-4888-dff8-609c5428b887"
      },
      "execution_count": 76,
      "outputs": [
        {
          "output_type": "display_data",
          "data": {
            "text/plain": [
              "<Figure size 432x288 with 1 Axes>"
            ],
            "image/png": "[encoded data removed]"
          },
          "metadata": {}
        }
      ]
    },
    {
      "cell_type": "markdown",
      "source": [
        "This is good. If we feed in the last 100 days of information, our model successfully predicts a steady decline in the price of Bitcoin over the next 50 days. For one last plot, let’s put this in perspective of the scale of the data."
      ],
      "metadata": {
        "id": "esAKDOf_lDt2"
      }
    },
    {
      "cell_type": "code",
      "source": [
        "plt.figure(figsize=(10,6)) #plotting\n",
        "a = [x for x in range(2500, len(y))]\n",
        "plt.plot(a, y[2500:], label='Actual data');\n",
        "c = [x for x in range(len(y)-50, len(y))]\n",
        "plt.plot(c, test_predict, label='One-shot multi-step prediction (50 days)')\n",
        "plt.axvline(x=len(y)-50, c='r', linestyle='--')\n",
        "plt.legend()\n",
        "plt.show()"
      ],
      "metadata": {
        "colab": {
          "base_uri": "https://localhost:8080/",
          "height": 398
        },
        "id": "KKD6_S6Pk_vD",
        "outputId": "722a299a-3405-4ead-8bb4-5ba56b224b55"
      },
      "execution_count": 77,
      "outputs": [
        {
          "output_type": "display_data",
          "data": {
            "text/plain": [
              "<Figure size 720x432 with 1 Axes>"
            ],
            "image/png": "[encoded data removed]"
          },
          "metadata": {}
        }
      ]
    },
    {
      "cell_type": "markdown",
      "source": [
        "So, if we’d run our model on 26th November 2021, we would have been correct in selling off our Bitcoin. The model correctly predicts a price drop, as well as the rate at which it drops.\n",
        "\n",
        "Here’s the amazing part, which took me a while to process. This orange whole curve is generated without looking at any target data. Yes, to be fair, the model is very familiar with all the actual targets before the dashed red line. However, once we move past the training set into the test set, the model has no idea what the test targets are. It has to generate its predictions based on the input features alone. It’s quite remarkable, then, that our orange predictions curve so closely matches that of the actual price.\n",
        "\n",
        "### Conclusion\n",
        "Interestingly, there’s essentially no information on the internet on how to construct multi-step output LSTM models for multivariate time-series data. Hopefully, this article gave you both the intuition and technical understanding for building your own forecasting models. Just remember to think through your input and output shapes very carefully, and construct tensors that represent past data predicting future data. Pytorch’s LSTM class will take care of the rest, so long as you know the shape of your data.\n",
        "\n",
        "In terms of next steps, I would recommend running this model on the most recent Bitcoin data from today, extending back to 100 days previously. See what the model thinks will happen to the price of Bitcoin over the next 50 days. You could also play with the time being fed to the model and the time being forecast; try for longer periods and see if the model can pick up on longer-term dependencies. Finally, you should note that these types of LSTMs are not the only solution to these multivariate, multi-output forecasting problems. There are many other deep learning solutions, including encoder-decoder networks for variable-length sequences, that you should look into. Saying that, LSTMs are a great place to start, and can give incredible performance if you know how to utilise them."
      ],
      "metadata": {
        "id": "XCkhtStIlMQ_"
      }
    },
    {
      "cell_type": "code",
      "source": [
        ""
      ],
      "metadata": {
        "id": "utJctfBklGw4"
      },
      "execution_count": null,
      "outputs": []
    }
  ]
}